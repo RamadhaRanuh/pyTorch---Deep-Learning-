{
  "nbformat": 4,
  "nbformat_minor": 0,
  "metadata": {
    "colab": {
      "provenance": []
    },
    "kernelspec": {
      "name": "python3",
      "display_name": "Python 3"
    },
    "language_info": {
      "name": "python"
    },
    "accelerator": "GPU",
    "gpuClass": "standard"
  },
  "cells": [
    {
      "cell_type": "markdown",
      "source": [
        "###IMPORT FILE"
      ],
      "metadata": {
        "id": "NJxZp0thPTs8"
      }
    },
    {
      "cell_type": "code",
      "source": [
        "import torch\n",
        "import pandas as pd\n",
        "import numpy as np\n",
        "import matplotlib.pyplot as plt\n",
        "print(torch.__version__)"
      ],
      "metadata": {
        "id": "OmOYYI4NsGCU",
        "colab": {
          "base_uri": "https://localhost:8080/"
        },
        "outputId": "ebd6c470-e762-46b2-f036-b0eb187d635b"
      },
      "execution_count": null,
      "outputs": [
        {
          "output_type": "stream",
          "name": "stdout",
          "text": [
            "1.13.1+cu116\n"
          ]
        }
      ]
    },
    {
      "cell_type": "markdown",
      "source": [
        "###Introduction"
      ],
      "metadata": {
        "id": "jGl1E5oNPQOW"
      }
    },
    {
      "cell_type": "code",
      "source": [
        "##Introduction to Tensors\n",
        "###Creating Tensors"
      ],
      "metadata": {
        "id": "l9GM2dpEZA4-"
      },
      "execution_count": null,
      "outputs": []
    },
    {
      "cell_type": "markdown",
      "source": [
        "###Scalar"
      ],
      "metadata": {
        "id": "jTUg59HZgbId"
      }
    },
    {
      "cell_type": "code",
      "source": [
        "scalar = torch.tensor(7)\n",
        "scalar\n",
        "#Scalar is 0 dimension"
      ],
      "metadata": {
        "colab": {
          "base_uri": "https://localhost:8080/"
        },
        "id": "WSXeA8XQZ9CO",
        "outputId": "ce82649b-a155-465f-c54d-91b270948760"
      },
      "execution_count": null,
      "outputs": [
        {
          "output_type": "execute_result",
          "data": {
            "text/plain": [
              "tensor(7)"
            ]
          },
          "metadata": {},
          "execution_count": 3
        }
      ]
    },
    {
      "cell_type": "markdown",
      "source": [
        "###Vector"
      ],
      "metadata": {
        "id": "O3M66BtXoRBj"
      }
    },
    {
      "cell_type": "code",
      "source": [
        "vector = torch.tensor([7,7])\n",
        "vector\n",
        "#Vector is 1 dimension"
      ],
      "metadata": {
        "id": "QmrQ5DhTadV-",
        "colab": {
          "base_uri": "https://localhost:8080/"
        },
        "outputId": "90d174d1-4ed9-4431-d8d7-c0bcbf252c03"
      },
      "execution_count": null,
      "outputs": [
        {
          "output_type": "execute_result",
          "data": {
            "text/plain": [
              "tensor([7, 7])"
            ]
          },
          "metadata": {},
          "execution_count": 4
        }
      ]
    },
    {
      "cell_type": "markdown",
      "source": [
        "###MATRIX"
      ],
      "metadata": {
        "id": "pHg9ZV0Ogd8A"
      }
    },
    {
      "cell_type": "code",
      "source": [
        "MATRIX = torch.tensor([[7,8],[9,10]])\n",
        "MATRIX[0]"
      ],
      "metadata": {
        "colab": {
          "base_uri": "https://localhost:8080/"
        },
        "id": "02GiQdHjdpsY",
        "outputId": "8052f4f7-b882-4d99-f3cb-27b69e9391f0"
      },
      "execution_count": null,
      "outputs": [
        {
          "output_type": "execute_result",
          "data": {
            "text/plain": [
              "tensor([7, 8])"
            ]
          },
          "metadata": {},
          "execution_count": 5
        }
      ]
    },
    {
      "cell_type": "markdown",
      "source": [
        "###TENSOR"
      ],
      "metadata": {
        "id": "Vb0ezMMVgf5T"
      }
    },
    {
      "cell_type": "code",
      "source": [
        "#Tensor\n",
        "TENSOR = torch.tensor([[[2,3,4],[3,4,5],[4,5,6]]])\n",
        "TENSOR.shape"
      ],
      "metadata": {
        "colab": {
          "base_uri": "https://localhost:8080/"
        },
        "id": "0KJ9X62Od-bm",
        "outputId": "db61bea9-dcac-4918-a508-96fda886b7e6"
      },
      "execution_count": null,
      "outputs": [
        {
          "output_type": "execute_result",
          "data": {
            "text/plain": [
              "torch.Size([1, 3, 3])"
            ]
          },
          "metadata": {},
          "execution_count": 6
        }
      ]
    },
    {
      "cell_type": "markdown",
      "source": [
        "###RANDOM TENSOR\n",
        "\n",
        "Random Tensor are important because they represent the first input given by the machine learning / deep learning model and then adjust the random tensor numbers to represent a better data.\n",
        "\n",
        "Start with random number -> look at data -> update random numbers -> update random numbers."
      ],
      "metadata": {
        "id": "NoqvgBXkglJV"
      }
    },
    {
      "cell_type": "code",
      "source": [
        "#Create a random tensor of size(3,4)\n",
        "random_tensor = torch.rand(3,4)\n",
        "random_tensor"
      ],
      "metadata": {
        "colab": {
          "base_uri": "https://localhost:8080/"
        },
        "id": "J9ELpxeyfb4j",
        "outputId": "a6034970-0bae-450a-f2be-dbd85ac5c662"
      },
      "execution_count": null,
      "outputs": [
        {
          "output_type": "execute_result",
          "data": {
            "text/plain": [
              "tensor([[0.3130, 0.8187, 0.9884, 0.2315],\n",
              "        [0.5773, 0.6028, 0.1259, 0.0701],\n",
              "        [0.2561, 0.6952, 0.4085, 0.1333]])"
            ]
          },
          "metadata": {},
          "execution_count": 7
        }
      ]
    },
    {
      "cell_type": "code",
      "source": [
        "#Create a random tensor with a similar shape to an image tensor\n",
        "random_image_tensor = torch.rand(size = (3,224,224)) #height ,width ,color (R,G,B)\n",
        "#size represent dimension (a,b,c) mean 3 dimensions \n",
        "random_image_tensor.shape"
      ],
      "metadata": {
        "colab": {
          "base_uri": "https://localhost:8080/"
        },
        "id": "FbZ08JtBhV1d",
        "outputId": "3411a2c9-53e5-4b83-bb3c-0f4fd2a4017f"
      },
      "execution_count": null,
      "outputs": [
        {
          "output_type": "execute_result",
          "data": {
            "text/plain": [
              "torch.Size([3, 224, 224])"
            ]
          },
          "metadata": {},
          "execution_count": 8
        }
      ]
    },
    {
      "cell_type": "markdown",
      "source": [
        "###ZEROES AND ONES"
      ],
      "metadata": {
        "id": "ii8tJJ62krC3"
      }
    },
    {
      "cell_type": "code",
      "source": [
        "zero_tensor = torch.zeros(3,4)\n",
        "zero_tensor"
      ],
      "metadata": {
        "colab": {
          "base_uri": "https://localhost:8080/"
        },
        "id": "_JHnvtJYjUbQ",
        "outputId": "3e94232f-328f-4a5b-d07d-a6913730ef51"
      },
      "execution_count": null,
      "outputs": [
        {
          "output_type": "execute_result",
          "data": {
            "text/plain": [
              "tensor([[0., 0., 0., 0.],\n",
              "        [0., 0., 0., 0.],\n",
              "        [0., 0., 0., 0.]])"
            ]
          },
          "metadata": {},
          "execution_count": 9
        }
      ]
    },
    {
      "cell_type": "code",
      "source": [
        "one = torch.ones(3,4)\n",
        "one"
      ],
      "metadata": {
        "colab": {
          "base_uri": "https://localhost:8080/"
        },
        "id": "0pnKvmv8kyhH",
        "outputId": "f10fb3e8-35d2-4f79-b448-335be9e010a2"
      },
      "execution_count": null,
      "outputs": [
        {
          "output_type": "execute_result",
          "data": {
            "text/plain": [
              "tensor([[1., 1., 1., 1.],\n",
              "        [1., 1., 1., 1.],\n",
              "        [1., 1., 1., 1.]])"
            ]
          },
          "metadata": {},
          "execution_count": 10
        }
      ]
    },
    {
      "cell_type": "markdown",
      "source": [
        "###Create a range of tensors and tensors like"
      ],
      "metadata": {
        "id": "8uUDS9jIlODG"
      }
    },
    {
      "cell_type": "code",
      "source": [
        "#Use torch.arange()\n",
        "one_to_ten = torch.arange(1,11)\n",
        "one_to_ten"
      ],
      "metadata": {
        "colab": {
          "base_uri": "https://localhost:8080/"
        },
        "id": "QJQuhLErk4hY",
        "outputId": "6ad46649-7e70-4117-d1b5-398aa1d665b8"
      },
      "execution_count": null,
      "outputs": [
        {
          "output_type": "execute_result",
          "data": {
            "text/plain": [
              "tensor([ 1,  2,  3,  4,  5,  6,  7,  8,  9, 10])"
            ]
          },
          "metadata": {},
          "execution_count": 11
        }
      ]
    },
    {
      "cell_type": "code",
      "source": [
        "step = torch.arange(start = 0, end = 1000, step = 123)\n",
        "step"
      ],
      "metadata": {
        "colab": {
          "base_uri": "https://localhost:8080/"
        },
        "id": "S0yRUbyClaym",
        "outputId": "48911e3b-6466-4c04-fa10-f662d9befe07"
      },
      "execution_count": null,
      "outputs": [
        {
          "output_type": "execute_result",
          "data": {
            "text/plain": [
              "tensor([  0, 123, 246, 369, 492, 615, 738, 861, 984])"
            ]
          },
          "metadata": {},
          "execution_count": 12
        }
      ]
    },
    {
      "cell_type": "code",
      "source": [
        "#Create a tensors like\n",
        "ten_zero = torch.zeros_like(input=one_to_ten)\n",
        "ten_zero"
      ],
      "metadata": {
        "colab": {
          "base_uri": "https://localhost:8080/"
        },
        "id": "RZMgTSYRl1NK",
        "outputId": "0003572d-96a2-48e2-d77e-8da921022c9c"
      },
      "execution_count": null,
      "outputs": [
        {
          "output_type": "execute_result",
          "data": {
            "text/plain": [
              "tensor([0, 0, 0, 0, 0, 0, 0, 0, 0, 0])"
            ]
          },
          "metadata": {},
          "execution_count": 13
        }
      ]
    },
    {
      "cell_type": "markdown",
      "source": [
        "##Tensor Datatype\n",
        "\n",
        "**Note:** 3 Errors you will get with datatype in pytorch and deeplearning:\n",
        "\n",
        "1. Tensors not right datatype - to get dataype from tensor, use `tensor.dtype`\n",
        "2. Tensors not right shape - to get a shape from tensor, use `tensor.shape`\n",
        "3. Tensors not on right device - to get a device from tensor, use `tensor.device`\n"
      ],
      "metadata": {
        "id": "PMrHU6l0olNn"
      }
    },
    {
      "cell_type": "code",
      "source": [
        "#Float 32-tensor\n",
        "#datatype of tensor(float32, float16, etc)\n",
        "float_32_tensor = torch.tensor([3.0,6.0,9.0],\n",
        "                               dtype=None,\n",
        "                               device=None, ##tensor device of the GPU, TPU(cuda, etc)\n",
        "                               requires_grad=False) #Wether or not track gradient with this tensors operation\n",
        "float_32_tensor"
      ],
      "metadata": {
        "colab": {
          "base_uri": "https://localhost:8080/"
        },
        "id": "pkk0z0Mimp1F",
        "outputId": "905ea3fa-ec87-4e36-d67a-c9120f5d8168"
      },
      "execution_count": null,
      "outputs": [
        {
          "output_type": "execute_result",
          "data": {
            "text/plain": [
              "tensor([3., 6., 9.])"
            ]
          },
          "metadata": {},
          "execution_count": 14
        }
      ]
    },
    {
      "cell_type": "code",
      "source": [
        "float_32_tensor.dtype"
      ],
      "metadata": {
        "colab": {
          "base_uri": "https://localhost:8080/"
        },
        "id": "D7FtJt5RpOgG",
        "outputId": "d891f492-b9ba-49f6-f7ae-71c73bcf7ebe"
      },
      "execution_count": null,
      "outputs": [
        {
          "output_type": "execute_result",
          "data": {
            "text/plain": [
              "torch.float32"
            ]
          },
          "metadata": {},
          "execution_count": 15
        }
      ]
    },
    {
      "cell_type": "code",
      "source": [
        "float_16_tensor = float_32_tensor.type(torch.float16)\n",
        "float_16_tensor.dtype"
      ],
      "metadata": {
        "colab": {
          "base_uri": "https://localhost:8080/"
        },
        "id": "I5bur93gpSV5",
        "outputId": "5d9c9207-bc95-4be5-f5ea-18e3210ac6aa"
      },
      "execution_count": null,
      "outputs": [
        {
          "output_type": "execute_result",
          "data": {
            "text/plain": [
              "torch.float16"
            ]
          },
          "metadata": {},
          "execution_count": 16
        }
      ]
    },
    {
      "cell_type": "code",
      "source": [
        "int_32_tensor = torch.tensor([3,6,9], dtype = torch.int32)\n",
        "int_32_tensor"
      ],
      "metadata": {
        "colab": {
          "base_uri": "https://localhost:8080/"
        },
        "id": "02exKa_2v4oC",
        "outputId": "42ac9b7d-3610-4d54-e138-c30d6eebae62"
      },
      "execution_count": null,
      "outputs": [
        {
          "output_type": "execute_result",
          "data": {
            "text/plain": [
              "tensor([3, 6, 9], dtype=torch.int32)"
            ]
          },
          "metadata": {},
          "execution_count": 17
        }
      ]
    },
    {
      "cell_type": "code",
      "source": [
        "int_32_tensor.dtype"
      ],
      "metadata": {
        "colab": {
          "base_uri": "https://localhost:8080/"
        },
        "id": "2ruheL20xTMP",
        "outputId": "15d6d888-1bca-405f-814e-29ec36b32a9e"
      },
      "execution_count": null,
      "outputs": [
        {
          "output_type": "execute_result",
          "data": {
            "text/plain": [
              "torch.int32"
            ]
          },
          "metadata": {},
          "execution_count": 18
        }
      ]
    },
    {
      "cell_type": "code",
      "source": [
        "float_16_tensor * int_32_tensor"
      ],
      "metadata": {
        "colab": {
          "base_uri": "https://localhost:8080/"
        },
        "id": "sbkgqiFqyate",
        "outputId": "612cd51e-2ebb-4796-c1a4-c7e07c4796de"
      },
      "execution_count": null,
      "outputs": [
        {
          "output_type": "execute_result",
          "data": {
            "text/plain": [
              "tensor([ 9., 36., 81.], dtype=torch.float16)"
            ]
          },
          "metadata": {},
          "execution_count": 19
        }
      ]
    },
    {
      "cell_type": "markdown",
      "source": [
        "##Getting Information from Tensor(Tensor Attribute)\n",
        "1. Tensors not right datatype - to get dataype from tensor, use tensor.dtype\n",
        "2. Tensors not right shape - to get a shape from tensor, use tensor.shape\n",
        "3. Tensors not on right device - to get a device from tensor, use tensor.device"
      ],
      "metadata": {
        "id": "YAXx58R7zmsc"
      }
    },
    {
      "cell_type": "code",
      "source": [
        "#Create tensor\n",
        "some_tensor = torch.rand(3,4)\n",
        "some_tensor"
      ],
      "metadata": {
        "colab": {
          "base_uri": "https://localhost:8080/"
        },
        "id": "epIbWqbdygxr",
        "outputId": "e5b328f3-dcec-4809-b677-6151eae72db4"
      },
      "execution_count": null,
      "outputs": [
        {
          "output_type": "execute_result",
          "data": {
            "text/plain": [
              "tensor([[0.5464, 0.2569, 0.7313, 0.6242],\n",
              "        [0.4812, 0.6673, 0.5258, 0.5663],\n",
              "        [0.1620, 0.6520, 0.4258, 0.5492]])"
            ]
          },
          "metadata": {},
          "execution_count": 20
        }
      ]
    },
    {
      "cell_type": "code",
      "source": [
        "#Find detail of a tensor\n",
        "print(some_tensor)\n",
        "print(f\"Datatype of tensors : {some_tensor.dtype}\")\n",
        "print(f\"Shape of tensor : {some_tensor.size()}\")\n",
        "print(f\"Device of tensor : {some_tensor.device}\")\n"
      ],
      "metadata": {
        "colab": {
          "base_uri": "https://localhost:8080/"
        },
        "id": "XeIO_flsz31i",
        "outputId": "54231ee0-c61d-4bd6-b7f6-ddd7af98a574"
      },
      "execution_count": null,
      "outputs": [
        {
          "output_type": "stream",
          "name": "stdout",
          "text": [
            "tensor([[0.5464, 0.2569, 0.7313, 0.6242],\n",
            "        [0.4812, 0.6673, 0.5258, 0.5663],\n",
            "        [0.1620, 0.6520, 0.4258, 0.5492]])\n",
            "Datatype of tensors : torch.float32\n",
            "Shape of tensor : torch.Size([3, 4])\n",
            "Device of tensor : cpu\n"
          ]
        }
      ]
    },
    {
      "cell_type": "markdown",
      "source": [
        "###Manipulating Tensors(Tensor Operations)\n",
        "\n",
        "Tensor Operation include:\n",
        "* Addition\n",
        "* Substraction\n",
        "* Multiplication (element-wise)\n",
        "* Division\n",
        "* Matrix Multiplication"
      ],
      "metadata": {
        "id": "7UDvjS3iGNSO"
      }
    },
    {
      "cell_type": "code",
      "source": [
        "#Create a Tensor and add 10 to it\n",
        "tensor = torch.tensor([1,2,3])\n",
        "torch.add(tensor,10) #same function\n",
        "tensor + 10"
      ],
      "metadata": {
        "id": "_tD86Wxmz6Fr",
        "colab": {
          "base_uri": "https://localhost:8080/"
        },
        "outputId": "b066df1e-3fbd-4e65-c047-5d81b06607a3"
      },
      "execution_count": null,
      "outputs": [
        {
          "output_type": "execute_result",
          "data": {
            "text/plain": [
              "tensor([11, 12, 13])"
            ]
          },
          "metadata": {},
          "execution_count": 22
        }
      ]
    },
    {
      "cell_type": "code",
      "source": [
        "#Multiply a tensor\n",
        "tensor * 10 \n",
        "torch.mul(tensor,10) #same function"
      ],
      "metadata": {
        "colab": {
          "base_uri": "https://localhost:8080/"
        },
        "id": "o9YAW38AGiwO",
        "outputId": "d7bc1707-ce71-49d3-cf37-959692db887e"
      },
      "execution_count": null,
      "outputs": [
        {
          "output_type": "execute_result",
          "data": {
            "text/plain": [
              "tensor([10, 20, 30])"
            ]
          },
          "metadata": {},
          "execution_count": 23
        }
      ]
    },
    {
      "cell_type": "code",
      "source": [
        "#Substract tensor\n",
        "tensor - 10"
      ],
      "metadata": {
        "colab": {
          "base_uri": "https://localhost:8080/"
        },
        "id": "HnpykMYIGr2_",
        "outputId": "e8c62173-bc4c-4393-eec6-94c5c888919e"
      },
      "execution_count": null,
      "outputs": [
        {
          "output_type": "execute_result",
          "data": {
            "text/plain": [
              "tensor([-9, -8, -7])"
            ]
          },
          "metadata": {},
          "execution_count": 24
        }
      ]
    },
    {
      "cell_type": "markdown",
      "source": [
        "##Matrix Multiplication\n",
        "\n",
        "Two ways of performing matrix multiplication in neural networks and deep learning:\n",
        "\n",
        "1. Element-wise multiplication\n",
        "2. Matrix multiplication (dot product {a . b})\n",
        "\n",
        "Two main rule of performing matrix multiplication:\n",
        "1. The **Inner dimension** must match:\n",
        "- (3,2) (2,3) will work.\n",
        "- (2,3) (2,3) won't work.\n",
        "2. The resulting matrix has the shape of **outer dimension**\"\n",
        "- (3,2) (2,3) -> result shape : (3,3)\n",
        "- (2,3) (3,2) -> result shape : (2,2)\n"
      ],
      "metadata": {
        "id": "m8ACxKqTHwdX"
      }
    },
    {
      "cell_type": "code",
      "source": [
        "#Element-wise Multiplication\n",
        "print(tensor, \"*\", tensor)\n",
        "print(f\"Equals: {tensor * tensor}\")\n",
        "#can use operation like tensor @ tensor"
      ],
      "metadata": {
        "colab": {
          "base_uri": "https://localhost:8080/"
        },
        "id": "KbQkXS9nG3NY",
        "outputId": "31442e69-0c65-48ca-9d19-33ffd8a21482"
      },
      "execution_count": null,
      "outputs": [
        {
          "output_type": "stream",
          "name": "stdout",
          "text": [
            "tensor([1, 2, 3]) * tensor([1, 2, 3])\n",
            "Equals: tensor([1, 4, 9])\n"
          ]
        }
      ]
    },
    {
      "cell_type": "code",
      "source": [
        "%%time\n",
        "#Matrix Multiplication\n",
        "torch.matmul(tensor,tensor) ##this is the fastest to calculate matrix multiplication\n",
        "#torch.mm is the same as torch.matmul\n",
        "torch.matmul(tensor,tensor)"
      ],
      "metadata": {
        "colab": {
          "base_uri": "https://localhost:8080/"
        },
        "id": "U_aK81vaIuRZ",
        "outputId": "7b5871f8-7f48-4245-d221-d8ba5f2d3495"
      },
      "execution_count": null,
      "outputs": [
        {
          "output_type": "stream",
          "name": "stdout",
          "text": [
            "CPU times: user 4.86 ms, sys: 0 ns, total: 4.86 ms\n",
            "Wall time: 13.7 ms\n"
          ]
        },
        {
          "output_type": "execute_result",
          "data": {
            "text/plain": [
              "tensor(14)"
            ]
          },
          "metadata": {},
          "execution_count": 26
        }
      ]
    },
    {
      "cell_type": "code",
      "source": [
        "%%time\n",
        "torch.matmul(torch.rand(3,2),torch.rand(2,3))"
      ],
      "metadata": {
        "colab": {
          "base_uri": "https://localhost:8080/"
        },
        "id": "RbCNGQIgIzLp",
        "outputId": "b3a9062f-e5a1-4646-fa23-d0b92c377bd5"
      },
      "execution_count": null,
      "outputs": [
        {
          "output_type": "stream",
          "name": "stdout",
          "text": [
            "CPU times: user 3.8 ms, sys: 128 µs, total: 3.93 ms\n",
            "Wall time: 20.5 ms\n"
          ]
        },
        {
          "output_type": "execute_result",
          "data": {
            "text/plain": [
              "tensor([[0.3258, 0.1443, 0.3243],\n",
              "        [1.1914, 0.5270, 1.1860],\n",
              "        [0.4429, 0.1944, 0.4411]])"
            ]
          },
          "metadata": {},
          "execution_count": 27
        }
      ]
    },
    {
      "cell_type": "markdown",
      "source": [
        "To fix tensor shapes, we can manipulate using transpose."
      ],
      "metadata": {
        "id": "ybxfDi83M3nO"
      }
    },
    {
      "cell_type": "code",
      "source": [
        "tensor_a = torch.rand(3,2)\n",
        "tensor_b = torch.rand(3,2)\n",
        "tensor_b = tensor_b.T #For transpose\n",
        "torch.mm(tensor_a,tensor_b) ##from (3,2) @ (3,2) -> (3,2) @ (2,3)"
      ],
      "metadata": {
        "colab": {
          "base_uri": "https://localhost:8080/"
        },
        "id": "ESkE_0_3LdJA",
        "outputId": "f2e940ff-d03b-4e55-bb46-4c59c7795a24"
      },
      "execution_count": null,
      "outputs": [
        {
          "output_type": "execute_result",
          "data": {
            "text/plain": [
              "tensor([[0.5459, 0.1006, 0.2524],\n",
              "        [0.5107, 0.0875, 0.2199],\n",
              "        [0.5679, 0.0773, 0.1958]])"
            ]
          },
          "metadata": {},
          "execution_count": 28
        }
      ]
    },
    {
      "cell_type": "markdown",
      "source": [
        "##Finding the min, max, mean, sum, etc (aggregation)"
      ],
      "metadata": {
        "id": "i_E5u8f7OYey"
      }
    },
    {
      "cell_type": "code",
      "source": [
        "#Create a tensor\n",
        "\n",
        "x = torch.arange(0,101,10)\n",
        "x, x.dtype"
      ],
      "metadata": {
        "colab": {
          "base_uri": "https://localhost:8080/"
        },
        "id": "4vb1OyXGNKXv",
        "outputId": "cd7eb130-2090-4ed5-b5ba-e95d86f58480"
      },
      "execution_count": null,
      "outputs": [
        {
          "output_type": "execute_result",
          "data": {
            "text/plain": [
              "(tensor([  0,  10,  20,  30,  40,  50,  60,  70,  80,  90, 100]), torch.int64)"
            ]
          },
          "metadata": {},
          "execution_count": 29
        }
      ]
    },
    {
      "cell_type": "code",
      "source": [
        "#find the min\n",
        "torch.min(x), x.min()"
      ],
      "metadata": {
        "colab": {
          "base_uri": "https://localhost:8080/"
        },
        "id": "SCNF4TGbOltl",
        "outputId": "a0ce3fcf-cd57-4546-e38c-d7d28a4a3c5a"
      },
      "execution_count": null,
      "outputs": [
        {
          "output_type": "execute_result",
          "data": {
            "text/plain": [
              "(tensor(0), tensor(0))"
            ]
          },
          "metadata": {},
          "execution_count": 30
        }
      ]
    },
    {
      "cell_type": "code",
      "source": [
        "#find the max\n",
        "torch.max(x), x.max()"
      ],
      "metadata": {
        "colab": {
          "base_uri": "https://localhost:8080/"
        },
        "id": "UkAjXL9ZOxk8",
        "outputId": "3be0aa63-611a-43c5-bbec-ecd0a5caf978"
      },
      "execution_count": null,
      "outputs": [
        {
          "output_type": "execute_result",
          "data": {
            "text/plain": [
              "(tensor(100), tensor(100))"
            ]
          },
          "metadata": {},
          "execution_count": 31
        }
      ]
    },
    {
      "cell_type": "code",
      "source": [
        "#Find the mean\n",
        "torch.mean(x.type(torch.float32)), x.type(torch.float32).mean() #MEAN change type from int to floating point / long (float32)"
      ],
      "metadata": {
        "colab": {
          "base_uri": "https://localhost:8080/"
        },
        "id": "0y0iklb_O6Pd",
        "outputId": "0925378d-2d16-4514-a427-e1859fda82e4"
      },
      "execution_count": null,
      "outputs": [
        {
          "output_type": "execute_result",
          "data": {
            "text/plain": [
              "(tensor(50.), tensor(50.))"
            ]
          },
          "metadata": {},
          "execution_count": 32
        }
      ]
    },
    {
      "cell_type": "code",
      "source": [
        "#Find the sum\n",
        "torch.sum(x), x.sum()"
      ],
      "metadata": {
        "colab": {
          "base_uri": "https://localhost:8080/"
        },
        "id": "zcXCM5plPiKA",
        "outputId": "3d0c3914-ffab-40f5-e145-365a30940032"
      },
      "execution_count": null,
      "outputs": [
        {
          "output_type": "execute_result",
          "data": {
            "text/plain": [
              "(tensor(550), tensor(550))"
            ]
          },
          "metadata": {},
          "execution_count": 33
        }
      ]
    },
    {
      "cell_type": "markdown",
      "source": [
        "##Find the positional min and max"
      ],
      "metadata": {
        "id": "nHEcKAePQTve"
      }
    },
    {
      "cell_type": "code",
      "source": [
        "x.argmin(), x.argmax() ##index min value & index max value"
      ],
      "metadata": {
        "colab": {
          "base_uri": "https://localhost:8080/"
        },
        "id": "LqI0e876P-AX",
        "outputId": "8ba6b43c-c013-41ab-dc51-1e66289070b7"
      },
      "execution_count": null,
      "outputs": [
        {
          "output_type": "execute_result",
          "data": {
            "text/plain": [
              "(tensor(0), tensor(10))"
            ]
          },
          "metadata": {},
          "execution_count": 34
        }
      ]
    },
    {
      "cell_type": "markdown",
      "source": [
        "##RESHAPING, STACKING, SQUEEZING, AND UNSQUEEZING TENSORS\n",
        "\n",
        "* Reshape - reshapes an input tensor to a defined shape\n",
        "* View - Return a view of an input tensor of certain shape but keep the same memory as the original tensor\n",
        "* Stacking - Combine multiple tensors on top of each other (vstack) or side by side(hstack)\n",
        "* Squeeze - remove all `1` dimensions from a tensor\n",
        "* Unsqueeze - add a `1` dimension to a target tensor\n",
        "* Permute - Return a view of the input dimensions permuted (swapped) in a certain dimension way"
      ],
      "metadata": {
        "id": "M85xNPj_RPn_"
      }
    },
    {
      "cell_type": "code",
      "source": [
        "#example\n",
        "x = torch.arange(1,11,1)\n",
        "x, x.shape"
      ],
      "metadata": {
        "colab": {
          "base_uri": "https://localhost:8080/"
        },
        "id": "6ED9seT_Qeln",
        "outputId": "11469df4-9818-4e2c-a354-25cc007041f4"
      },
      "execution_count": null,
      "outputs": [
        {
          "output_type": "execute_result",
          "data": {
            "text/plain": [
              "(tensor([ 1,  2,  3,  4,  5,  6,  7,  8,  9, 10]), torch.Size([10]))"
            ]
          },
          "metadata": {},
          "execution_count": 35
        }
      ]
    },
    {
      "cell_type": "code",
      "source": [
        "#Add an extra dimension\n",
        "\n",
        "x_reshaped = x.reshape(1,10) #reshape must always have equal to original size\n",
        "x_reshaped, x_reshaped.shape"
      ],
      "metadata": {
        "colab": {
          "base_uri": "https://localhost:8080/"
        },
        "id": "HOKLe9M9SRUi",
        "outputId": "57843856-d098-43a2-cfc2-8c3d8e420d9d"
      },
      "execution_count": null,
      "outputs": [
        {
          "output_type": "execute_result",
          "data": {
            "text/plain": [
              "(tensor([[ 1,  2,  3,  4,  5,  6,  7,  8,  9, 10]]), torch.Size([1, 10]))"
            ]
          },
          "metadata": {},
          "execution_count": 36
        }
      ]
    },
    {
      "cell_type": "code",
      "source": [
        "#Change the view\n",
        "z = x.view(1,10) #Z and X share same memory, changing Z means changing X as well.\n",
        "z, z.shape"
      ],
      "metadata": {
        "colab": {
          "base_uri": "https://localhost:8080/"
        },
        "id": "zVv5CfMpS8vm",
        "outputId": "e4977b26-26ed-4e8d-b587-7b0a80009927"
      },
      "execution_count": null,
      "outputs": [
        {
          "output_type": "execute_result",
          "data": {
            "text/plain": [
              "(tensor([[ 1,  2,  3,  4,  5,  6,  7,  8,  9, 10]]), torch.Size([1, 10]))"
            ]
          },
          "metadata": {},
          "execution_count": 37
        }
      ]
    },
    {
      "cell_type": "code",
      "source": [
        "#Change Z if it change X as well\n",
        "z[:,0] = 5\n",
        "z,x"
      ],
      "metadata": {
        "colab": {
          "base_uri": "https://localhost:8080/"
        },
        "id": "fwujfrpCT2mB",
        "outputId": "edbb6b47-f466-441b-f6bb-ba14b384499c"
      },
      "execution_count": null,
      "outputs": [
        {
          "output_type": "execute_result",
          "data": {
            "text/plain": [
              "(tensor([[ 5,  2,  3,  4,  5,  6,  7,  8,  9, 10]]),\n",
              " tensor([ 5,  2,  3,  4,  5,  6,  7,  8,  9, 10]))"
            ]
          },
          "metadata": {},
          "execution_count": 38
        }
      ]
    },
    {
      "cell_type": "code",
      "source": [
        "#Stack tensor of each other\n",
        "x_stacked = torch.stack([x,x,x,x],dim=0)\n",
        "x_stacked"
      ],
      "metadata": {
        "colab": {
          "base_uri": "https://localhost:8080/"
        },
        "id": "jU1G6wVQUI0L",
        "outputId": "6107c9da-caf6-4a84-e0be-6b02f8dbc3a1"
      },
      "execution_count": null,
      "outputs": [
        {
          "output_type": "execute_result",
          "data": {
            "text/plain": [
              "tensor([[ 5,  2,  3,  4,  5,  6,  7,  8,  9, 10],\n",
              "        [ 5,  2,  3,  4,  5,  6,  7,  8,  9, 10],\n",
              "        [ 5,  2,  3,  4,  5,  6,  7,  8,  9, 10],\n",
              "        [ 5,  2,  3,  4,  5,  6,  7,  8,  9, 10]])"
            ]
          },
          "metadata": {},
          "execution_count": 39
        }
      ]
    },
    {
      "cell_type": "code",
      "source": [
        "#torch_squeeze\n",
        "print(f\"Previous tensor: {x_reshaped}\")\n",
        "print(f\"Previous shape : {x_reshaped.shape}\")\n",
        "\n",
        "x_reshaped = x_reshaped.squeeze()\n",
        "\n",
        "print(f\"Tensor now : {x_reshaped}\")\n",
        "print(f\"Shape now : {x_reshaped.shape}\")"
      ],
      "metadata": {
        "colab": {
          "base_uri": "https://localhost:8080/"
        },
        "id": "f7yfhK0UUixB",
        "outputId": "9376b6f9-d650-41cd-dc0d-b56969531f05"
      },
      "execution_count": null,
      "outputs": [
        {
          "output_type": "stream",
          "name": "stdout",
          "text": [
            "Previous tensor: tensor([[ 5,  2,  3,  4,  5,  6,  7,  8,  9, 10]])\n",
            "Previous shape : torch.Size([1, 10])\n",
            "Tensor now : tensor([ 5,  2,  3,  4,  5,  6,  7,  8,  9, 10])\n",
            "Shape now : torch.Size([10])\n"
          ]
        }
      ]
    },
    {
      "cell_type": "code",
      "source": [
        "#torch_unSqueeze\n",
        "\n",
        "print(f\"Previous tensor: {x_reshaped}\")\n",
        "print(f\"Previous shape : {x_reshaped.shape}\")\n",
        "\n",
        "x_reshaped = x_reshaped.unsqueeze(dim=0)\n",
        "\n",
        "print(f\"Tensor now : {x_reshaped}\")\n",
        "print(f\"Shape now : {x_reshaped.shape}\")"
      ],
      "metadata": {
        "colab": {
          "base_uri": "https://localhost:8080/"
        },
        "id": "vnNayyJJV0c4",
        "outputId": "74779c05-b47f-4e4c-f85e-2dbee9b69f31"
      },
      "execution_count": null,
      "outputs": [
        {
          "output_type": "stream",
          "name": "stdout",
          "text": [
            "Previous tensor: tensor([ 5,  2,  3,  4,  5,  6,  7,  8,  9, 10])\n",
            "Previous shape : torch.Size([10])\n",
            "Tensor now : tensor([[ 5,  2,  3,  4,  5,  6,  7,  8,  9, 10]])\n",
            "Shape now : torch.Size([1, 10])\n"
          ]
        }
      ]
    },
    {
      "cell_type": "code",
      "source": [
        "#torch_permute\n",
        "\n",
        "x_original = torch.rand(size=(224,224,3)) #image data height, width, colour channel\n",
        "\n",
        "#permute the original tensor to rearrange axis of dimension / order of the dimension\n",
        "x_permuted = x_original.permute(2,0,1) #shift index 2->0, 0->1, 1->2\n",
        "x_permuted.shape"
      ],
      "metadata": {
        "colab": {
          "base_uri": "https://localhost:8080/"
        },
        "id": "dzjQGlhoWgoL",
        "outputId": "a1035014-a3e3-4573-d53a-8311be4955a2"
      },
      "execution_count": null,
      "outputs": [
        {
          "output_type": "execute_result",
          "data": {
            "text/plain": [
              "torch.Size([3, 224, 224])"
            ]
          },
          "metadata": {},
          "execution_count": 42
        }
      ]
    },
    {
      "cell_type": "markdown",
      "source": [
        "##Indexing (Selecting Data from Tensors)"
      ],
      "metadata": {
        "id": "pP9yeUFlYc09"
      }
    },
    {
      "cell_type": "code",
      "source": [
        "#Create Tensor\n",
        "x = torch.arange(1,10).reshape(1,3,3)\n",
        "x, x.shape"
      ],
      "metadata": {
        "colab": {
          "base_uri": "https://localhost:8080/"
        },
        "id": "3kIuIHkyXthN",
        "outputId": "f5560849-b6bc-4309-9ac6-3e44dd7289cd"
      },
      "execution_count": null,
      "outputs": [
        {
          "output_type": "execute_result",
          "data": {
            "text/plain": [
              "(tensor([[[1, 2, 3],\n",
              "          [4, 5, 6],\n",
              "          [7, 8, 9]]]), torch.Size([1, 3, 3]))"
            ]
          },
          "metadata": {},
          "execution_count": 43
        }
      ]
    },
    {
      "cell_type": "code",
      "source": [
        "#Index on new tensor all dimension\n",
        "\n",
        "x[0]"
      ],
      "metadata": {
        "colab": {
          "base_uri": "https://localhost:8080/"
        },
        "id": "oQn1Rg5DY4L-",
        "outputId": "4d22ff37-564d-4534-af85-41d045fc6bd6"
      },
      "execution_count": null,
      "outputs": [
        {
          "output_type": "execute_result",
          "data": {
            "text/plain": [
              "tensor([[1, 2, 3],\n",
              "        [4, 5, 6],\n",
              "        [7, 8, 9]])"
            ]
          },
          "metadata": {},
          "execution_count": 44
        }
      ]
    },
    {
      "cell_type": "code",
      "source": [
        "#Index on new tensor (dim=1)\n",
        "x[0][0]"
      ],
      "metadata": {
        "colab": {
          "base_uri": "https://localhost:8080/"
        },
        "id": "HmcPvR3wZUC4",
        "outputId": "a09ddd70-a260-45b1-8554-6c38cf561219"
      },
      "execution_count": null,
      "outputs": [
        {
          "output_type": "execute_result",
          "data": {
            "text/plain": [
              "tensor([1, 2, 3])"
            ]
          },
          "metadata": {},
          "execution_count": 45
        }
      ]
    },
    {
      "cell_type": "code",
      "source": [
        "#Index on new tensor last dimension\n",
        "x[0][0][0]"
      ],
      "metadata": {
        "colab": {
          "base_uri": "https://localhost:8080/"
        },
        "id": "4PMOxWDKZWlL",
        "outputId": "0bb3a249-2ec8-4ce4-ea04-b2f88c116014"
      },
      "execution_count": null,
      "outputs": [
        {
          "output_type": "execute_result",
          "data": {
            "text/plain": [
              "tensor(1)"
            ]
          },
          "metadata": {},
          "execution_count": 46
        }
      ]
    },
    {
      "cell_type": "code",
      "source": [
        "#use \":\" to select \"all\" dimension\n",
        "x[:, :, 1] #grab all dimension 0 and 1, and only grab dimension 2 of index 1"
      ],
      "metadata": {
        "colab": {
          "base_uri": "https://localhost:8080/"
        },
        "id": "Mzcve8zrZYT9",
        "outputId": "236378c0-a560-44c8-a6e7-d2a68cbf4f2a"
      },
      "execution_count": null,
      "outputs": [
        {
          "output_type": "execute_result",
          "data": {
            "text/plain": [
              "tensor([[2, 5, 8]])"
            ]
          },
          "metadata": {},
          "execution_count": 47
        }
      ]
    },
    {
      "cell_type": "markdown",
      "source": [
        "##Pytorch tensors  & NumPy\n",
        "\n",
        "Numpy is a popular scientific python numerical computer library.\n",
        "And because of this, Pytorch has functionality to interact with it.\n",
        "\n",
        "* Data in NumPy, want in Pytorch tensor -> `torch.from_numpy(ndarray)`\n",
        "* Pytorch tensor -> NumPy -> `torch.Tensor.numPy()`"
      ],
      "metadata": {
        "id": "nQfTnCHlavN0"
      }
    },
    {
      "cell_type": "code",
      "source": [
        "#NumPy array to tensor\n",
        "import torch\n",
        "import numpy as np\n",
        "\n",
        "array = np.arange(1.0,8.0)\n",
        "tensor = torch.from_numpy(array) ##warning, when converting from numpy to pytorch, pytorch reflect numpy's default dataType of float64 unless specified otherwise. Must convert it to float32 for torch\n",
        "array,tensor"
      ],
      "metadata": {
        "colab": {
          "base_uri": "https://localhost:8080/"
        },
        "id": "nKHFDRtdbQLD",
        "outputId": "527d66be-8f4f-4593-d786-3109630715ad"
      },
      "execution_count": null,
      "outputs": [
        {
          "output_type": "execute_result",
          "data": {
            "text/plain": [
              "(array([1., 2., 3., 4., 5., 6., 7.]),\n",
              " tensor([1., 2., 3., 4., 5., 6., 7.], dtype=torch.float64))"
            ]
          },
          "metadata": {},
          "execution_count": 48
        }
      ]
    },
    {
      "cell_type": "code",
      "source": [
        "tensor = torch.ones(7)\n",
        "numpy_tensor = tensor.numpy()\n",
        "tensor, numpy_tensor"
      ],
      "metadata": {
        "colab": {
          "base_uri": "https://localhost:8080/"
        },
        "id": "BLekBvLPbqdH",
        "outputId": "b1cb51ff-feae-4d0f-d7fd-ac29e4de6e28"
      },
      "execution_count": null,
      "outputs": [
        {
          "output_type": "execute_result",
          "data": {
            "text/plain": [
              "(tensor([1., 1., 1., 1., 1., 1., 1.]),\n",
              " array([1., 1., 1., 1., 1., 1., 1.], dtype=float32))"
            ]
          },
          "metadata": {},
          "execution_count": 49
        }
      ]
    },
    {
      "cell_type": "code",
      "source": [
        "tensor.dtype "
      ],
      "metadata": {
        "colab": {
          "base_uri": "https://localhost:8080/"
        },
        "id": "K38rKC2_dEJ-",
        "outputId": "0c208ce4-ac6b-47f4-a407-6251eb574fd8"
      },
      "execution_count": null,
      "outputs": [
        {
          "output_type": "execute_result",
          "data": {
            "text/plain": [
              "torch.float32"
            ]
          },
          "metadata": {},
          "execution_count": 50
        }
      ]
    },
    {
      "cell_type": "code",
      "source": [],
      "metadata": {
        "id": "lAzJB7medHuR"
      },
      "execution_count": null,
      "outputs": []
    },
    {
      "cell_type": "markdown",
      "source": [
        "##Reproducibility (Trying to take random of random)\n",
        "\n",
        "How Neural Network works:\n",
        "\n",
        "`start with random numbers -> tensor operations -> update random numbers to try and make them of the data -> again -> again -> ...`\n",
        "\n",
        "To reduce randomness in neural networks and pyTorch comes the concept of **random seed**.\n",
        "Essentially what the random seed does in \"flavour\" the randomness."
      ],
      "metadata": {
        "id": "EO7GgHkwdWTo"
      }
    },
    {
      "cell_type": "code",
      "source": [
        "random_tensor_a = torch.rand(3,4)\n",
        "random_tensor_b = torch.rand(3,4)\n",
        "print(random_tensor_a)\n",
        "print(random_tensor_b)\n",
        "print(random_tensor_a == random_tensor_b)"
      ],
      "metadata": {
        "id": "pA8v5iRCdZCY",
        "colab": {
          "base_uri": "https://localhost:8080/"
        },
        "outputId": "50bbf0eb-15a2-44b4-82b4-bf408f262dca"
      },
      "execution_count": null,
      "outputs": [
        {
          "output_type": "stream",
          "name": "stdout",
          "text": [
            "tensor([[0.0096, 0.9639, 0.6639, 0.8781],\n",
            "        [0.4634, 0.3716, 0.8736, 0.0981],\n",
            "        [0.6652, 0.5529, 0.8337, 0.6354]])\n",
            "tensor([[0.2325, 0.5127, 0.0945, 0.7237],\n",
            "        [0.4663, 0.1062, 0.2486, 0.2106],\n",
            "        [0.7606, 0.1446, 0.3771, 0.7895]])\n",
            "tensor([[False, False, False, False],\n",
            "        [False, False, False, False],\n",
            "        [False, False, False, False]])\n"
          ]
        }
      ]
    },
    {
      "cell_type": "code",
      "source": [
        "#Set random seed\n",
        "RANDOM_SEED = 42\n",
        "torch.manual_seed(RANDOM_SEED)\n",
        "random_tensor_c = torch.rand(3,4)\n",
        "torch.manual_seed(RANDOM_SEED)\n",
        "random_tensor_d = torch.rand(3,4)\n",
        "print(random_tensor_c)\n",
        "print(random_tensor_d)\n",
        "print(random_tensor_c == random_tensor_d)\n"
      ],
      "metadata": {
        "colab": {
          "base_uri": "https://localhost:8080/"
        },
        "id": "i3zU49PE1iW6",
        "outputId": "acf68fc0-fd1f-43c3-8151-b2239fba4a41"
      },
      "execution_count": null,
      "outputs": [
        {
          "output_type": "stream",
          "name": "stdout",
          "text": [
            "tensor([[0.8823, 0.9150, 0.3829, 0.9593],\n",
            "        [0.3904, 0.6009, 0.2566, 0.7936],\n",
            "        [0.9408, 0.1332, 0.9346, 0.5936]])\n",
            "tensor([[0.8823, 0.9150, 0.3829, 0.9593],\n",
            "        [0.3904, 0.6009, 0.2566, 0.7936],\n",
            "        [0.9408, 0.1332, 0.9346, 0.5936]])\n",
            "tensor([[True, True, True, True],\n",
            "        [True, True, True, True],\n",
            "        [True, True, True, True]])\n"
          ]
        }
      ]
    },
    {
      "cell_type": "markdown",
      "source": [
        "##Running Tensors and pytorch objects on the GPUs (and making faster computations)\n"
      ],
      "metadata": {
        "id": "z073UeOG34GE"
      }
    },
    {
      "cell_type": "code",
      "source": [],
      "metadata": {
        "id": "fLCBu4582UaF"
      },
      "execution_count": null,
      "outputs": []
    }
  ]
}